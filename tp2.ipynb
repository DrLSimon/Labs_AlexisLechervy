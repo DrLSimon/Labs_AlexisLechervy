{
  "cells": [
    {
      "cell_type": "markdown",
      "metadata": {
        "id": "view-in-github",
        "colab_type": "text"
      },
      "source": [
        "<a href=\"https://colab.research.google.com/github/DrLSimon/Labs_AlexisLechervy/blob/lab1/tp2.ipynb\" target=\"_parent\"><img src=\"https://colab.research.google.com/assets/colab-badge.svg\" alt=\"Open In Colab\"/></a>"
      ]
    },
    {
      "cell_type": "markdown",
      "metadata": {
        "id": "RBOeKC1EOslg"
      },
      "source": [
        "TP2: Premier réseau de neurone avec PyTorch\n",
        "=============\n",
        "\n",
        "Introduction au sujet\n",
        "-----\n",
        "\n",
        "L'objectif de ce sujet est de mettre en place un premier réseau de neurone pour classer des fleurs de la base IRIS.\n",
        "\n",
        "Le code est à écrire en python3 à la suite des questions dans ce fichier. Vous appuierez soit sur le bouton *run cell*, soit sur les touches *Ctrl-Entrée*, à l’intérieur de la zone de saisie, pour lancer l'exécution de vos commandes. Si la commande est en cours d’exécution une étoile apparaît à côté de la zone de saisie de la commande : In [\\*]. Une fois le calcul achevé, l'étoile est remplacée par le numéro du run permettant de retrouver par la suite dans quel ordre ont été lancés chaque bloc.\n",
        "\n",
        "N'hésitez pas à regarder régulièrement la documentation de ces librairies, des exemples d'utilisation accompagnent généralement l'explication de chaque fonction.\n",
        "\n",
        "Langage utilisé:\n",
        "- Python 3: https://docs.python.org/3/\n",
        "\n",
        "Librairie de math:\n",
        "- Numpy: https://docs.scipy.org/doc/numpy/reference/\n",
        "- Scipy: https://docs.scipy.org/doc/scipy/reference/\n",
        "\n",
        "Librairie d'affichage de données:\n",
        "- Matplotilb: https://matplotlib.org/contents.html\n",
        "\n",
        "Librairie Pytorch:\n",
        "- PyTorch: https: https://pytorch.org/docs/stable/\n",
        "\n",
        "Commencez par importer les librairies nécessaires au TP."
      ]
    },
    {
      "cell_type": "code",
      "execution_count": null,
      "metadata": {
        "id": "BHQNlHAROsll"
      },
      "outputs": [],
      "source": [
        "# Import Torch\n",
        "import torch\n",
        "import torch.nn as nn\n",
        "from torch.utils.tensorboard import SummaryWriter\n",
        "\n",
        "# Import numpy et matplotlib\n",
        "import numpy as np\n",
        "import matplotlib.pyplot as plt\n",
        "\n",
        "# Import de scikit-learn\n",
        "import sklearn as sk\n",
        "import sklearn.datasets\n",
        "import sklearn.model_selection\n",
        "\n",
        "%matplotlib inline"
      ]
    },
    {
      "cell_type": "markdown",
      "metadata": {
        "id": "ynb0O3p5Oslm"
      },
      "source": [
        "PyTorch: Premier réseau sur la base IRIS\n",
        "-----"
      ]
    },
    {
      "cell_type": "markdown",
      "metadata": {
        "id": "jSrbFXJ-Oslm"
      },
      "source": [
        "Nous allons dans ce TP étudier la base *IRIS* et tester un réseau entièrement connecté dessus. "
      ]
    },
    {
      "cell_type": "markdown",
      "metadata": {
        "id": "k0zu75psOsln"
      },
      "source": [
        "Commencez par charger la base *IRIS* avec sckit-learn. Vous mettrez les descripteurs des fleurs dans une variable `X` et les labels dans une variable `y`."
      ]
    },
    {
      "cell_type": "code",
      "execution_count": null,
      "metadata": {
        "collapsed": true,
        "id": "pADz6ZemOsln"
      },
      "outputs": [],
      "source": [
        ""
      ]
    },
    {
      "cell_type": "markdown",
      "metadata": {
        "id": "NudqBYseOsln"
      },
      "source": [
        "Vérifiez que le code suivant affiche bien des *True*."
      ]
    },
    {
      "cell_type": "code",
      "execution_count": null,
      "metadata": {
        "id": "iu0EdaZQOslo",
        "outputId": "f1507e9d-461d-4b69-a1d8-02419e90f923"
      },
      "outputs": [
        {
          "name": "stdout",
          "output_type": "stream",
          "text": [
            "True\n",
            "True\n"
          ]
        }
      ],
      "source": [
        "print(X.shape == (150,4))\n",
        "print(y.shape == (150,))"
      ]
    },
    {
      "cell_type": "markdown",
      "metadata": {
        "id": "xVJ9Ig-5Oslp"
      },
      "source": [
        "Séparez l'ensemble d'apprentissage en deux en utilisant la fonction train_test_split de sckit-learn. Un ensemble d'apprentissage *train* et un ensemble de *test*. Vous prendrez 1/3 des images pour le test."
      ]
    },
    {
      "cell_type": "code",
      "execution_count": null,
      "metadata": {
        "collapsed": true,
        "id": "c4uJGhy8Oslp"
      },
      "outputs": [],
      "source": [
        ""
      ]
    },
    {
      "cell_type": "markdown",
      "metadata": {
        "id": "WVroEvtoOslq"
      },
      "source": [
        "Vérifiez les dimensions des données produites:"
      ]
    },
    {
      "cell_type": "code",
      "execution_count": null,
      "metadata": {
        "id": "KeF6rTdrOslq",
        "outputId": "d35f6f0d-08b6-40c9-8112-25fb6d3a87c9"
      },
      "outputs": [
        {
          "name": "stdout",
          "output_type": "stream",
          "text": [
            "100.0 -> (100, 4) (100,)\n",
            "50.0 -> (50, 4) (50,)\n"
          ]
        }
      ],
      "source": [
        "print(2*len(X)/3,'->',train.shape,y_train.shape)\n",
        "print(len(X)/3,'->',test.shape,y_test.shape)"
      ]
    },
    {
      "cell_type": "markdown",
      "metadata": {
        "id": "gyThb_NPOslq"
      },
      "source": [
        "Définissez un classifieur *iris_classifier* correspondant à un réseau entièrement connecté de 3 couches cachées de tailles [10,20,10]. Après chaque couche cachée, vous appliquerez une fonction d'activation de type ReLU. N'oubliez pas la dernière couche de sortie. Vous utiliseriez `torch.nn.Sequential` pour faire cette question."
      ]
    },
    {
      "cell_type": "code",
      "execution_count": null,
      "metadata": {
        "id": "iSyEEaO1Oslr"
      },
      "outputs": [],
      "source": [
        ""
      ]
    },
    {
      "cell_type": "markdown",
      "metadata": {
        "id": "qe-w5hl8Oslr"
      },
      "source": [
        "Définissez un objet `iter_train` permettant de parcourir la base de donnée d'entrainement avec des batchs aléatoires de taille 32. Vous utiliserez les classes `TensorDataset` et `DataLoader` pour cette question."
      ]
    },
    {
      "cell_type": "code",
      "execution_count": null,
      "metadata": {
        "id": "WHFjqlx5Oslr"
      },
      "outputs": [],
      "source": [
        ""
      ]
    },
    {
      "cell_type": "markdown",
      "metadata": {
        "id": "btW0LeqdOslr"
      },
      "source": [
        "Définissez un objet `iter_test` permettant de parcourir la base de donnée de test avec des batchs de taille 10 concervant l'ordre d'origine des exemples."
      ]
    },
    {
      "cell_type": "code",
      "execution_count": null,
      "metadata": {
        "collapsed": true,
        "id": "kq-DiuxnOslr"
      },
      "outputs": [],
      "source": [
        ""
      ]
    },
    {
      "cell_type": "markdown",
      "metadata": {
        "id": "Q6a2X3JYOsls"
      },
      "source": [
        "Définissez une optimiser de type gradient stochastique initialisé avec un taux d'apprentissage de $10^{-2}$."
      ]
    },
    {
      "cell_type": "code",
      "execution_count": null,
      "metadata": {
        "id": "2pzKCxKKOsls"
      },
      "outputs": [],
      "source": [
        ""
      ]
    },
    {
      "cell_type": "markdown",
      "metadata": {
        "id": "xSpPjxrIOsls"
      },
      "source": [
        "Définissze un critère de type cross-entropie qui sera utilisé comme fonction de coût optimisant notre réseau."
      ]
    },
    {
      "cell_type": "code",
      "execution_count": null,
      "metadata": {
        "id": "FAW6Fb5lOsls"
      },
      "outputs": [],
      "source": [
        ""
      ]
    },
    {
      "cell_type": "markdown",
      "metadata": {
        "id": "vEcvNAInOsls"
      },
      "source": [
        "Effectuez 100 époques d'apprentissage du classifieur `iris_classifier` avec les données de `iter_train`. Vous utiliserez pour celà un algorithme de gradient stochastique avec une fonction de coût de type cross-entropie."
      ]
    },
    {
      "cell_type": "code",
      "execution_count": null,
      "metadata": {
        "id": "EEhJzKW5Osls",
        "outputId": "4c2db156-d898-438b-bdc5-73aca1059b82"
      },
      "outputs": [
        {
          "name": "stdout",
          "output_type": "stream",
          "text": [
            "0 /100, loss= 0.8554646968841553\n",
            "10 /100, loss= 1.0755116939544678\n",
            "20 /100, loss= 1.0671064853668213\n",
            "30 /100, loss= 0.9227153658866882\n",
            "40 /100, loss= 0.9295974969863892\n",
            "50 /100, loss= 0.5762283802032471\n",
            "60 /100, loss= 0.479737788438797\n",
            "70 /100, loss= 0.6177878379821777\n",
            "80 /100, loss= 0.33995407819747925\n",
            "90 /100, loss= 0.4962453544139862\n",
            "99 /100, loss= 0.3136560320854187\n"
          ]
        }
      ],
      "source": [
        ""
      ]
    },
    {
      "cell_type": "markdown",
      "metadata": {
        "id": "e3ovwGEDOslt"
      },
      "source": [
        "Evaluez les performances du réseau appris à la  question précédente sur les données de test de `iter_test`. Pour faire  cette  question vous calculerez dans une boucle le nombre de fois que l'algorithme s'est trompé sur la base de test. Pensez à désactiver le calcul des gradients sur la base de test afin de pas perturbé avec des données de tests de nouveaux apprentissages de votre réseau."
      ]
    },
    {
      "cell_type": "code",
      "execution_count": null,
      "metadata": {
        "scrolled": true,
        "id": "UPPoC73JOslt",
        "outputId": "46290c42-e8c2-4136-e7b8-2b70a2aa1d3c"
      },
      "outputs": [
        {
          "name": "stdout",
          "output_type": "stream",
          "text": [
            "Accuracy sur test: 78.0%\n"
          ]
        }
      ],
      "source": [
        ""
      ]
    },
    {
      "cell_type": "markdown",
      "metadata": {
        "id": "PoQkqWvOOslt"
      },
      "source": [
        "Relancez les lignes effectuant l'apprentissage et l'évaluation. Comment évolue les performances d'apprentissage ? "
      ]
    },
    {
      "cell_type": "code",
      "execution_count": null,
      "metadata": {
        "collapsed": true,
        "id": "k_kxNT95Oslt"
      },
      "outputs": [],
      "source": [
        ""
      ]
    },
    {
      "cell_type": "markdown",
      "metadata": {
        "id": "SyNHEQJGOslt"
      },
      "source": [
        "Utilisez tensorboard pour visualiser le graphe correspondant à votre réseau et les différentes courbes correspondant à l'apprentissage de ce dernier.\n",
        "\n",
        "Vous pouvez pour cela:\n",
        "- Soit installez le plugin tensorboard pour jupyter: pip3 install --user jupyter-tensorboard\n",
        "\n",
        "Puis vous suivez les informations d'écrit sur la page: https://github.com/lspvic/jupyter_tensorboard\n",
        "- Soit lancer dans un terminal: tensorboard --logdir=.\n",
        "\n",
        "Puis vous vous connectez à http://localhost:6006"
      ]
    },
    {
      "cell_type": "code",
      "execution_count": null,
      "metadata": {
        "collapsed": true,
        "id": "un7W2GaZOslu"
      },
      "outputs": [],
      "source": [
        ""
      ]
    },
    {
      "cell_type": "markdown",
      "metadata": {
        "id": "1-4MWr3GOslu"
      },
      "source": [
        "PyTorch: Définition d'un réseau couche par couche\n",
        "-----"
      ]
    },
    {
      "cell_type": "markdown",
      "metadata": {
        "id": "unNqeJcWOslu"
      },
      "source": [
        "Nous allons dans cette partie redéfinir le réseau couche par couche."
      ]
    },
    {
      "cell_type": "markdown",
      "metadata": {
        "id": "Nsi3cdLeOslu"
      },
      "source": [
        "Définissez une classe `Net` définissant le réseau précédant sans utiliser de `torch.nn.Sequential`. "
      ]
    },
    {
      "cell_type": "code",
      "execution_count": null,
      "metadata": {
        "collapsed": true,
        "id": "7oDAz0ybOslu"
      },
      "outputs": [],
      "source": [
        ""
      ]
    },
    {
      "cell_type": "markdown",
      "metadata": {
        "id": "TW_n9UEFOslu"
      },
      "source": [
        "Apprenez ce réseau sur les données d'apprentissage de la base IRIS avec un algorithme de descende de gradient de type AdaGrad dont le taux d'apprentissage est de $10^{-2}$ avec une fonction de coût de type cross-entropie."
      ]
    },
    {
      "cell_type": "code",
      "execution_count": null,
      "metadata": {
        "id": "Ijz0lL7BOslu",
        "outputId": "f7e132d8-43ad-4f65-caf5-ceef6ce7d206"
      },
      "outputs": [
        {
          "name": "stdout",
          "output_type": "stream",
          "text": [
            "0 /200, loss= 1.1917170286178589\n",
            "100 /200, loss= 0.3672744035720825\n",
            "200/200, loss= 0.13490986824035645\n"
          ]
        }
      ],
      "source": [
        ""
      ]
    },
    {
      "cell_type": "markdown",
      "metadata": {
        "id": "Ya7K2EFfOslv"
      },
      "source": [
        "Testez le réseau que vous venez d'apprendre sur la base de test."
      ]
    },
    {
      "cell_type": "code",
      "execution_count": null,
      "metadata": {
        "id": "ohlJcvsyOslv",
        "outputId": "8be7a686-8473-4935-d7b3-578d4948f63c"
      },
      "outputs": [
        {
          "name": "stdout",
          "output_type": "stream",
          "text": [
            "Accuracy sur test: 96.0%\n"
          ]
        }
      ],
      "source": [
        ""
      ]
    },
    {
      "cell_type": "markdown",
      "metadata": {
        "id": "8mJLHK_rOslv"
      },
      "source": [
        "Sauvegardez le modèle que vous venez d'apprendre dans un fichier."
      ]
    },
    {
      "cell_type": "code",
      "execution_count": null,
      "metadata": {
        "id": "ReKAJhOrOslv"
      },
      "outputs": [],
      "source": [
        ""
      ]
    },
    {
      "cell_type": "markdown",
      "metadata": {
        "id": "PBZHabOYOslv"
      },
      "source": [
        "Chargez le réseau que vous venez de sauvegarder et vérifier que les performances sur la base de test n'ont pas changé."
      ]
    },
    {
      "cell_type": "code",
      "execution_count": null,
      "metadata": {
        "id": "mlFOQ1g_Oslv",
        "outputId": "7562cd18-ec72-4b73-b3a7-8b27f42626c0"
      },
      "outputs": [
        {
          "name": "stdout",
          "output_type": "stream",
          "text": [
            "Accuracy sur test: 96.0%\n"
          ]
        }
      ],
      "source": [
        ""
      ]
    },
    {
      "cell_type": "markdown",
      "metadata": {
        "id": "GEhe9LUCOslv"
      },
      "source": [
        "Comparez les graphes des deux méthodes dans tensorboard. Retrouvez-vous les même éléments ? Qu'est ce qui diffère entre les deux versions ? "
      ]
    },
    {
      "cell_type": "code",
      "execution_count": null,
      "metadata": {
        "id": "8GJqGSaOOslw"
      },
      "outputs": [],
      "source": [
        ""
      ]
    },
    {
      "cell_type": "markdown",
      "metadata": {
        "id": "t0btSuLpOslw"
      },
      "source": [
        "Comparaison avec un SVM \n",
        "----"
      ]
    },
    {
      "cell_type": "markdown",
      "metadata": {
        "id": "QozCaUE3Oslw"
      },
      "source": [
        "En utilisant la librairie sckit-learn et le cours de Machine learning du premier semestre, trouver les performances du meilleur SVM sur ces données et comparer les performances avec celle du réseau de neurone."
      ]
    },
    {
      "cell_type": "code",
      "execution_count": null,
      "metadata": {
        "id": "RHUw1cE9Oslw",
        "outputId": "63faa7b8-f634-4bbc-cf46-3ba756343276"
      },
      "outputs": [
        {
          "name": "stdout",
          "output_type": "stream",
          "text": [
            "0.98\n",
            "              precision    recall  f1-score   support\n",
            "\n",
            "           0     1.0000    1.0000    1.0000        16\n",
            "           1     1.0000    0.9474    0.9730        19\n",
            "           2     0.9375    1.0000    0.9677        15\n",
            "\n",
            "   micro avg     0.9800    0.9800    0.9800        50\n",
            "   macro avg     0.9792    0.9825    0.9802        50\n",
            "weighted avg     0.9812    0.9800    0.9801        50\n",
            "\n",
            "[[16  0  0]\n",
            " [ 0 18  1]\n",
            " [ 0  0 15]] 0.8 0.74\n"
          ]
        },
        {
          "name": "stderr",
          "output_type": "stream",
          "text": [
            "/home/lechervy/.local/lib/python3.6/site-packages/sklearn/model_selection/_search.py:841: DeprecationWarning: The default of the `iid` parameter will change from True to False in version 0.22 and will be removed in 0.24. This will change numeric results when test-set sizes are unequal.\n",
            "  DeprecationWarning)\n"
          ]
        }
      ],
      "source": [
        "from sklearn.model_selection import GridSearchCV\n",
        "from sklearn.svm import SVC\n",
        "from sklearn.metrics import *\n",
        "\n"
      ]
    },
    {
      "cell_type": "code",
      "execution_count": null,
      "metadata": {
        "id": "2rI3V2JQOslw"
      },
      "outputs": [],
      "source": [
        ""
      ]
    },
    {
      "cell_type": "code",
      "execution_count": null,
      "metadata": {
        "id": "Hg_I1xbWOslw"
      },
      "outputs": [],
      "source": [
        ""
      ]
    },
    {
      "cell_type": "code",
      "execution_count": null,
      "metadata": {
        "id": "S2AUV75COslw"
      },
      "outputs": [],
      "source": [
        ""
      ]
    },
    {
      "cell_type": "code",
      "execution_count": null,
      "metadata": {
        "id": "YbgeHd5XOslw"
      },
      "outputs": [],
      "source": [
        ""
      ]
    }
  ],
  "metadata": {
    "kernelspec": {
      "display_name": "Python 3",
      "language": "python",
      "name": "python3"
    },
    "language_info": {
      "codemirror_mode": {
        "name": "ipython",
        "version": 3
      },
      "file_extension": ".py",
      "mimetype": "text/x-python",
      "name": "python",
      "nbconvert_exporter": "python",
      "pygments_lexer": "ipython3",
      "version": "3.6.9"
    },
    "colab": {
      "name": "tp2.ipynb",
      "provenance": [],
      "include_colab_link": true
    }
  },
  "nbformat": 4,
  "nbformat_minor": 0
}